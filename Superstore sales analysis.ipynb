{
 "cells": [
  {
   "cell_type": "code",
   "execution_count": 1,
   "id": "f358d86f-2ff5-43da-b3f8-b46a0b59f26b",
   "metadata": {},
   "outputs": [
    {
     "ename": "ImportError",
     "evalue": "DLL load failed while importing _multiarray_umath: The specified module could not be found.",
     "output_type": "error",
     "traceback": [
      "\u001b[1;31m---------------------------------------------------------------------------\u001b[0m",
      "\u001b[1;31mImportError\u001b[0m                               Traceback (most recent call last)",
      "\u001b[1;31mImportError\u001b[0m: DLL load failed while importing _multiarray_umath: The specified module could not be found."
     ]
    },
    {
     "ename": "ImportError",
     "evalue": "DLL load failed while importing _multiarray_umath: The specified module could not be found.",
     "output_type": "error",
     "traceback": [
      "\u001b[1;31m---------------------------------------------------------------------------\u001b[0m",
      "\u001b[1;31mImportError\u001b[0m                               Traceback (most recent call last)",
      "\u001b[1;31mImportError\u001b[0m: DLL load failed while importing _multiarray_umath: The specified module could not be found."
     ]
    }
   ],
   "source": [
    "import pandas as pd\n",
    "import seaborn as sns\n",
    "import matplotlib.pyplot as plt"
   ]
  },
  {
   "cell_type": "code",
   "execution_count": 3,
   "id": "f8fb9bc3-1410-41bb-95a1-63b712c9cd20",
   "metadata": {},
   "outputs": [],
   "source": [
    "import pandas as pd \n",
    "pd.set_option('display.float_format',lambda x:'%.3f' % x)"
   ]
  },
  {
   "cell_type": "code",
   "execution_count": 4,
   "id": "5d34fae6-725d-4259-b8da-8e2bc146ea39",
   "metadata": {},
   "outputs": [],
   "source": [
    "import warnings \n",
    "warnings.filterwarnings('ignore')"
   ]
  },
  {
   "cell_type": "code",
   "execution_count": 5,
   "id": "7f5296ba-2755-4dc1-a662-57ece893d4eb",
   "metadata": {},
   "outputs": [],
   "source": [
    "# gather and clean the data\n",
    "\n",
    "df=pd.read_csv(r\"C:\\Users\\ACER\\Desktop\\datasets\\superstore_dataset2011-2015.csv\",encoding ='ISO-8859-1')\n"
   ]
  },
  {
   "cell_type": "code",
   "execution_count": 6,
   "id": "5dff0aa5-9397-4efe-b020-6c02a7947738",
   "metadata": {},
   "outputs": [
    {
     "data": {
      "text/html": [
       "<div>\n",
       "<style scoped>\n",
       "    .dataframe tbody tr th:only-of-type {\n",
       "        vertical-align: middle;\n",
       "    }\n",
       "\n",
       "    .dataframe tbody tr th {\n",
       "        vertical-align: top;\n",
       "    }\n",
       "\n",
       "    .dataframe thead th {\n",
       "        text-align: right;\n",
       "    }\n",
       "</style>\n",
       "<table border=\"1\" class=\"dataframe\">\n",
       "  <thead>\n",
       "    <tr style=\"text-align: right;\">\n",
       "      <th></th>\n",
       "      <th>Row ID</th>\n",
       "      <th>Order ID</th>\n",
       "      <th>Order Date</th>\n",
       "      <th>Ship Date</th>\n",
       "      <th>Ship Mode</th>\n",
       "      <th>Customer ID</th>\n",
       "      <th>Customer Name</th>\n",
       "      <th>Segment</th>\n",
       "      <th>City</th>\n",
       "      <th>State</th>\n",
       "      <th>...</th>\n",
       "      <th>Product ID</th>\n",
       "      <th>Category</th>\n",
       "      <th>Sub-Category</th>\n",
       "      <th>Product Name</th>\n",
       "      <th>Sales</th>\n",
       "      <th>Quantity</th>\n",
       "      <th>Discount</th>\n",
       "      <th>Profit</th>\n",
       "      <th>Shipping Cost</th>\n",
       "      <th>Order Priority</th>\n",
       "    </tr>\n",
       "  </thead>\n",
       "  <tbody>\n",
       "    <tr>\n",
       "      <th>0</th>\n",
       "      <td>42433</td>\n",
       "      <td>AG-2011-2040</td>\n",
       "      <td>1/1/2011</td>\n",
       "      <td>6/1/2011</td>\n",
       "      <td>Standard Class</td>\n",
       "      <td>TB-11280</td>\n",
       "      <td>Toby Braunhardt</td>\n",
       "      <td>Consumer</td>\n",
       "      <td>Constantine</td>\n",
       "      <td>Constantine</td>\n",
       "      <td>...</td>\n",
       "      <td>OFF-TEN-10000025</td>\n",
       "      <td>Office Supplies</td>\n",
       "      <td>Storage</td>\n",
       "      <td>Tenex Lockers, Blue</td>\n",
       "      <td>408.300</td>\n",
       "      <td>2</td>\n",
       "      <td>0.000</td>\n",
       "      <td>106.140</td>\n",
       "      <td>35.460</td>\n",
       "      <td>Medium</td>\n",
       "    </tr>\n",
       "    <tr>\n",
       "      <th>1</th>\n",
       "      <td>22253</td>\n",
       "      <td>IN-2011-47883</td>\n",
       "      <td>1/1/2011</td>\n",
       "      <td>8/1/2011</td>\n",
       "      <td>Standard Class</td>\n",
       "      <td>JH-15985</td>\n",
       "      <td>Joseph Holt</td>\n",
       "      <td>Consumer</td>\n",
       "      <td>Wagga Wagga</td>\n",
       "      <td>New South Wales</td>\n",
       "      <td>...</td>\n",
       "      <td>OFF-SU-10000618</td>\n",
       "      <td>Office Supplies</td>\n",
       "      <td>Supplies</td>\n",
       "      <td>Acme Trimmer, High Speed</td>\n",
       "      <td>120.366</td>\n",
       "      <td>3</td>\n",
       "      <td>0.100</td>\n",
       "      <td>36.036</td>\n",
       "      <td>9.720</td>\n",
       "      <td>Medium</td>\n",
       "    </tr>\n",
       "    <tr>\n",
       "      <th>2</th>\n",
       "      <td>48883</td>\n",
       "      <td>HU-2011-1220</td>\n",
       "      <td>1/1/2011</td>\n",
       "      <td>5/1/2011</td>\n",
       "      <td>Second Class</td>\n",
       "      <td>AT-735</td>\n",
       "      <td>Annie Thurman</td>\n",
       "      <td>Consumer</td>\n",
       "      <td>Budapest</td>\n",
       "      <td>Budapest</td>\n",
       "      <td>...</td>\n",
       "      <td>OFF-TEN-10001585</td>\n",
       "      <td>Office Supplies</td>\n",
       "      <td>Storage</td>\n",
       "      <td>Tenex Box, Single Width</td>\n",
       "      <td>66.120</td>\n",
       "      <td>4</td>\n",
       "      <td>0.000</td>\n",
       "      <td>29.640</td>\n",
       "      <td>8.170</td>\n",
       "      <td>High</td>\n",
       "    </tr>\n",
       "    <tr>\n",
       "      <th>3</th>\n",
       "      <td>11731</td>\n",
       "      <td>IT-2011-3647632</td>\n",
       "      <td>1/1/2011</td>\n",
       "      <td>5/1/2011</td>\n",
       "      <td>Second Class</td>\n",
       "      <td>EM-14140</td>\n",
       "      <td>Eugene Moren</td>\n",
       "      <td>Home Office</td>\n",
       "      <td>Stockholm</td>\n",
       "      <td>Stockholm</td>\n",
       "      <td>...</td>\n",
       "      <td>OFF-PA-10001492</td>\n",
       "      <td>Office Supplies</td>\n",
       "      <td>Paper</td>\n",
       "      <td>Enermax Note Cards, Premium</td>\n",
       "      <td>44.865</td>\n",
       "      <td>3</td>\n",
       "      <td>0.500</td>\n",
       "      <td>-26.055</td>\n",
       "      <td>4.820</td>\n",
       "      <td>High</td>\n",
       "    </tr>\n",
       "    <tr>\n",
       "      <th>4</th>\n",
       "      <td>22255</td>\n",
       "      <td>IN-2011-47883</td>\n",
       "      <td>1/1/2011</td>\n",
       "      <td>8/1/2011</td>\n",
       "      <td>Standard Class</td>\n",
       "      <td>JH-15985</td>\n",
       "      <td>Joseph Holt</td>\n",
       "      <td>Consumer</td>\n",
       "      <td>Wagga Wagga</td>\n",
       "      <td>New South Wales</td>\n",
       "      <td>...</td>\n",
       "      <td>FUR-FU-10003447</td>\n",
       "      <td>Furniture</td>\n",
       "      <td>Furnishings</td>\n",
       "      <td>Eldon Light Bulb, Duo Pack</td>\n",
       "      <td>113.670</td>\n",
       "      <td>5</td>\n",
       "      <td>0.100</td>\n",
       "      <td>37.770</td>\n",
       "      <td>4.700</td>\n",
       "      <td>Medium</td>\n",
       "    </tr>\n",
       "  </tbody>\n",
       "</table>\n",
       "<p>5 rows × 24 columns</p>\n",
       "</div>"
      ],
      "text/plain": [
       "   Row ID         Order ID Order Date Ship Date       Ship Mode Customer ID  \\\n",
       "0   42433     AG-2011-2040   1/1/2011  6/1/2011  Standard Class    TB-11280   \n",
       "1   22253    IN-2011-47883   1/1/2011  8/1/2011  Standard Class    JH-15985   \n",
       "2   48883     HU-2011-1220   1/1/2011  5/1/2011    Second Class      AT-735   \n",
       "3   11731  IT-2011-3647632   1/1/2011  5/1/2011    Second Class    EM-14140   \n",
       "4   22255    IN-2011-47883   1/1/2011  8/1/2011  Standard Class    JH-15985   \n",
       "\n",
       "     Customer Name      Segment         City            State  ...  \\\n",
       "0  Toby Braunhardt     Consumer  Constantine      Constantine  ...   \n",
       "1      Joseph Holt     Consumer  Wagga Wagga  New South Wales  ...   \n",
       "2    Annie Thurman     Consumer     Budapest         Budapest  ...   \n",
       "3     Eugene Moren  Home Office    Stockholm        Stockholm  ...   \n",
       "4      Joseph Holt     Consumer  Wagga Wagga  New South Wales  ...   \n",
       "\n",
       "         Product ID         Category Sub-Category  \\\n",
       "0  OFF-TEN-10000025  Office Supplies      Storage   \n",
       "1   OFF-SU-10000618  Office Supplies     Supplies   \n",
       "2  OFF-TEN-10001585  Office Supplies      Storage   \n",
       "3   OFF-PA-10001492  Office Supplies        Paper   \n",
       "4   FUR-FU-10003447        Furniture  Furnishings   \n",
       "\n",
       "                  Product Name   Sales Quantity Discount  Profit  \\\n",
       "0          Tenex Lockers, Blue 408.300        2    0.000 106.140   \n",
       "1     Acme Trimmer, High Speed 120.366        3    0.100  36.036   \n",
       "2      Tenex Box, Single Width  66.120        4    0.000  29.640   \n",
       "3  Enermax Note Cards, Premium  44.865        3    0.500 -26.055   \n",
       "4   Eldon Light Bulb, Duo Pack 113.670        5    0.100  37.770   \n",
       "\n",
       "   Shipping Cost  Order Priority  \n",
       "0         35.460          Medium  \n",
       "1          9.720          Medium  \n",
       "2          8.170            High  \n",
       "3          4.820            High  \n",
       "4          4.700          Medium  \n",
       "\n",
       "[5 rows x 24 columns]"
      ]
     },
     "execution_count": 6,
     "metadata": {},
     "output_type": "execute_result"
    }
   ],
   "source": [
    "# display top five rows\n",
    "\n",
    "df.head()"
   ]
  },
  {
   "cell_type": "code",
   "execution_count": 7,
   "id": "76775f0d-4264-4049-b0f3-7c0d40e76f5e",
   "metadata": {},
   "outputs": [
    {
     "data": {
      "text/plain": [
       "Index(['Row ID', 'Order ID', 'Order Date', 'Ship Date', 'Ship Mode',\n",
       "       'Customer ID', 'Customer Name', 'Segment', 'City', 'State', 'Country',\n",
       "       'Postal Code', 'Market', 'Region', 'Product ID', 'Category',\n",
       "       'Sub-Category', 'Product Name', 'Sales', 'Quantity', 'Discount',\n",
       "       'Profit', 'Shipping Cost', 'Order Priority'],\n",
       "      dtype='object')"
      ]
     },
     "execution_count": 7,
     "metadata": {},
     "output_type": "execute_result"
    }
   ],
   "source": [
    "df.columns"
   ]
  },
  {
   "cell_type": "code",
   "execution_count": 8,
   "id": "6fff598c-4d7f-4686-b072-699cbbed5126",
   "metadata": {},
   "outputs": [
    {
     "data": {
      "text/html": [
       "<div>\n",
       "<style scoped>\n",
       "    .dataframe tbody tr th:only-of-type {\n",
       "        vertical-align: middle;\n",
       "    }\n",
       "\n",
       "    .dataframe tbody tr th {\n",
       "        vertical-align: top;\n",
       "    }\n",
       "\n",
       "    .dataframe thead th {\n",
       "        text-align: right;\n",
       "    }\n",
       "</style>\n",
       "<table border=\"1\" class=\"dataframe\">\n",
       "  <thead>\n",
       "    <tr style=\"text-align: right;\">\n",
       "      <th></th>\n",
       "      <th>Row ID</th>\n",
       "      <th>Order ID</th>\n",
       "      <th>Order Date</th>\n",
       "      <th>Ship Date</th>\n",
       "      <th>Ship Mode</th>\n",
       "      <th>Customer ID</th>\n",
       "      <th>Customer Name</th>\n",
       "      <th>Segment</th>\n",
       "      <th>City</th>\n",
       "      <th>State</th>\n",
       "      <th>...</th>\n",
       "      <th>Product ID</th>\n",
       "      <th>Category</th>\n",
       "      <th>Sub-Category</th>\n",
       "      <th>Product Name</th>\n",
       "      <th>Sales</th>\n",
       "      <th>Quantity</th>\n",
       "      <th>Discount</th>\n",
       "      <th>Profit</th>\n",
       "      <th>Shipping Cost</th>\n",
       "      <th>Order Priority</th>\n",
       "    </tr>\n",
       "  </thead>\n",
       "  <tbody>\n",
       "    <tr>\n",
       "      <th>51285</th>\n",
       "      <td>32593</td>\n",
       "      <td>CA-2014-115427</td>\n",
       "      <td>31-12-2014</td>\n",
       "      <td>4/1/2015</td>\n",
       "      <td>Standard Class</td>\n",
       "      <td>EB-13975</td>\n",
       "      <td>Erica Bern</td>\n",
       "      <td>Corporate</td>\n",
       "      <td>Fairfield</td>\n",
       "      <td>California</td>\n",
       "      <td>...</td>\n",
       "      <td>OFF-BI-10002103</td>\n",
       "      <td>Office Supplies</td>\n",
       "      <td>Binders</td>\n",
       "      <td>Cardinal Slant-D Ring Binder, Heavy Gauge Vinyl</td>\n",
       "      <td>13.904</td>\n",
       "      <td>2</td>\n",
       "      <td>0.200</td>\n",
       "      <td>4.519</td>\n",
       "      <td>0.890</td>\n",
       "      <td>Medium</td>\n",
       "    </tr>\n",
       "    <tr>\n",
       "      <th>51286</th>\n",
       "      <td>47594</td>\n",
       "      <td>MO-2014-2560</td>\n",
       "      <td>31-12-2014</td>\n",
       "      <td>5/1/2015</td>\n",
       "      <td>Standard Class</td>\n",
       "      <td>LP-7095</td>\n",
       "      <td>Liz Preis</td>\n",
       "      <td>Consumer</td>\n",
       "      <td>Agadir</td>\n",
       "      <td>Souss-Massa-Draâ</td>\n",
       "      <td>...</td>\n",
       "      <td>OFF-WIL-10001069</td>\n",
       "      <td>Office Supplies</td>\n",
       "      <td>Binders</td>\n",
       "      <td>Wilson Jones Hole Reinforcements, Clear</td>\n",
       "      <td>3.990</td>\n",
       "      <td>1</td>\n",
       "      <td>0.000</td>\n",
       "      <td>0.420</td>\n",
       "      <td>0.490</td>\n",
       "      <td>Medium</td>\n",
       "    </tr>\n",
       "    <tr>\n",
       "      <th>51287</th>\n",
       "      <td>8857</td>\n",
       "      <td>MX-2014-110527</td>\n",
       "      <td>31-12-2014</td>\n",
       "      <td>2/1/2015</td>\n",
       "      <td>Second Class</td>\n",
       "      <td>CM-12190</td>\n",
       "      <td>Charlotte Melton</td>\n",
       "      <td>Consumer</td>\n",
       "      <td>Managua</td>\n",
       "      <td>Managua</td>\n",
       "      <td>...</td>\n",
       "      <td>OFF-LA-10004182</td>\n",
       "      <td>Office Supplies</td>\n",
       "      <td>Labels</td>\n",
       "      <td>Hon Color Coded Labels, 5000 Label Set</td>\n",
       "      <td>26.400</td>\n",
       "      <td>3</td>\n",
       "      <td>0.000</td>\n",
       "      <td>12.360</td>\n",
       "      <td>0.350</td>\n",
       "      <td>Medium</td>\n",
       "    </tr>\n",
       "    <tr>\n",
       "      <th>51288</th>\n",
       "      <td>6852</td>\n",
       "      <td>MX-2014-114783</td>\n",
       "      <td>31-12-2014</td>\n",
       "      <td>6/1/2015</td>\n",
       "      <td>Standard Class</td>\n",
       "      <td>TD-20995</td>\n",
       "      <td>Tamara Dahlen</td>\n",
       "      <td>Consumer</td>\n",
       "      <td>Juárez</td>\n",
       "      <td>Chihuahua</td>\n",
       "      <td>...</td>\n",
       "      <td>OFF-LA-10000413</td>\n",
       "      <td>Office Supplies</td>\n",
       "      <td>Labels</td>\n",
       "      <td>Hon Legal Exhibit Labels, Alphabetical</td>\n",
       "      <td>7.120</td>\n",
       "      <td>1</td>\n",
       "      <td>0.000</td>\n",
       "      <td>0.560</td>\n",
       "      <td>0.200</td>\n",
       "      <td>Medium</td>\n",
       "    </tr>\n",
       "    <tr>\n",
       "      <th>51289</th>\n",
       "      <td>36388</td>\n",
       "      <td>CA-2014-156720</td>\n",
       "      <td>31-12-2014</td>\n",
       "      <td>4/1/2015</td>\n",
       "      <td>Standard Class</td>\n",
       "      <td>JM-15580</td>\n",
       "      <td>Jill Matthias</td>\n",
       "      <td>Consumer</td>\n",
       "      <td>Loveland</td>\n",
       "      <td>Colorado</td>\n",
       "      <td>...</td>\n",
       "      <td>OFF-FA-10003472</td>\n",
       "      <td>Office Supplies</td>\n",
       "      <td>Fasteners</td>\n",
       "      <td>Bagged Rubber Bands</td>\n",
       "      <td>3.024</td>\n",
       "      <td>3</td>\n",
       "      <td>0.200</td>\n",
       "      <td>-0.605</td>\n",
       "      <td>0.170</td>\n",
       "      <td>Medium</td>\n",
       "    </tr>\n",
       "  </tbody>\n",
       "</table>\n",
       "<p>5 rows × 24 columns</p>\n",
       "</div>"
      ],
      "text/plain": [
       "       Row ID        Order ID  Order Date Ship Date       Ship Mode  \\\n",
       "51285   32593  CA-2014-115427  31-12-2014  4/1/2015  Standard Class   \n",
       "51286   47594    MO-2014-2560  31-12-2014  5/1/2015  Standard Class   \n",
       "51287    8857  MX-2014-110527  31-12-2014  2/1/2015    Second Class   \n",
       "51288    6852  MX-2014-114783  31-12-2014  6/1/2015  Standard Class   \n",
       "51289   36388  CA-2014-156720  31-12-2014  4/1/2015  Standard Class   \n",
       "\n",
       "      Customer ID     Customer Name    Segment       City             State  \\\n",
       "51285    EB-13975        Erica Bern  Corporate  Fairfield        California   \n",
       "51286     LP-7095         Liz Preis   Consumer     Agadir  Souss-Massa-Draâ   \n",
       "51287    CM-12190  Charlotte Melton   Consumer    Managua           Managua   \n",
       "51288    TD-20995     Tamara Dahlen   Consumer     Juárez         Chihuahua   \n",
       "51289    JM-15580     Jill Matthias   Consumer   Loveland          Colorado   \n",
       "\n",
       "       ...        Product ID         Category Sub-Category  \\\n",
       "51285  ...   OFF-BI-10002103  Office Supplies      Binders   \n",
       "51286  ...  OFF-WIL-10001069  Office Supplies      Binders   \n",
       "51287  ...   OFF-LA-10004182  Office Supplies       Labels   \n",
       "51288  ...   OFF-LA-10000413  Office Supplies       Labels   \n",
       "51289  ...   OFF-FA-10003472  Office Supplies    Fasteners   \n",
       "\n",
       "                                          Product Name  Sales Quantity  \\\n",
       "51285  Cardinal Slant-D Ring Binder, Heavy Gauge Vinyl 13.904        2   \n",
       "51286          Wilson Jones Hole Reinforcements, Clear  3.990        1   \n",
       "51287           Hon Color Coded Labels, 5000 Label Set 26.400        3   \n",
       "51288           Hon Legal Exhibit Labels, Alphabetical  7.120        1   \n",
       "51289                              Bagged Rubber Bands  3.024        3   \n",
       "\n",
       "      Discount Profit  Shipping Cost  Order Priority  \n",
       "51285    0.200  4.519          0.890          Medium  \n",
       "51286    0.000  0.420          0.490          Medium  \n",
       "51287    0.000 12.360          0.350          Medium  \n",
       "51288    0.000  0.560          0.200          Medium  \n",
       "51289    0.200 -0.605          0.170          Medium  \n",
       "\n",
       "[5 rows x 24 columns]"
      ]
     },
     "execution_count": 8,
     "metadata": {},
     "output_type": "execute_result"
    }
   ],
   "source": [
    "#display last five rows \n",
    "\n",
    "df.tail()"
   ]
  },
  {
   "cell_type": "code",
   "execution_count": 9,
   "id": "345cbe94-82a0-42d8-bd73-b6d3a0c80ccc",
   "metadata": {},
   "outputs": [
    {
     "name": "stdout",
     "output_type": "stream",
     "text": [
      "The dataset has 51290 rows and 24 columns\n"
     ]
    }
   ],
   "source": [
    "#find shape of the dataset\n",
    "df.shape\n",
    "print('The dataset has',df.shape[0],'rows and',df.shape[1],'columns' )"
   ]
  },
  {
   "cell_type": "code",
   "execution_count": 10,
   "id": "b631cb09-3264-4fe5-98a6-a038bfadca57",
   "metadata": {},
   "outputs": [
    {
     "name": "stdout",
     "output_type": "stream",
     "text": [
      "<class 'pandas.core.frame.DataFrame'>\n",
      "RangeIndex: 51290 entries, 0 to 51289\n",
      "Data columns (total 24 columns):\n",
      " #   Column          Non-Null Count  Dtype  \n",
      "---  ------          --------------  -----  \n",
      " 0   Row ID          51290 non-null  int64  \n",
      " 1   Order ID        51290 non-null  object \n",
      " 2   Order Date      51290 non-null  object \n",
      " 3   Ship Date       51290 non-null  object \n",
      " 4   Ship Mode       51290 non-null  object \n",
      " 5   Customer ID     51290 non-null  object \n",
      " 6   Customer Name   51290 non-null  object \n",
      " 7   Segment         51290 non-null  object \n",
      " 8   City            51290 non-null  object \n",
      " 9   State           51290 non-null  object \n",
      " 10  Country         51290 non-null  object \n",
      " 11  Postal Code     9994 non-null   float64\n",
      " 12  Market          51290 non-null  object \n",
      " 13  Region          51290 non-null  object \n",
      " 14  Product ID      51290 non-null  object \n",
      " 15  Category        51290 non-null  object \n",
      " 16  Sub-Category    51290 non-null  object \n",
      " 17  Product Name    51290 non-null  object \n",
      " 18  Sales           51290 non-null  float64\n",
      " 19  Quantity        51290 non-null  int64  \n",
      " 20  Discount        51290 non-null  float64\n",
      " 21  Profit          51290 non-null  float64\n",
      " 22  Shipping Cost   51290 non-null  float64\n",
      " 23  Order Priority  51290 non-null  object \n",
      "dtypes: float64(5), int64(2), object(17)\n",
      "memory usage: 9.4+ MB\n"
     ]
    }
   ],
   "source": [
    "#get information about our dataset\n",
    "df.info()"
   ]
  },
  {
   "cell_type": "code",
   "execution_count": 11,
   "id": "1a88afd7-8abe-4f9d-9595-6981a02e7660",
   "metadata": {},
   "outputs": [
    {
     "data": {
      "text/plain": [
       "Row ID                0\n",
       "Order ID              0\n",
       "Order Date            0\n",
       "Ship Date             0\n",
       "Ship Mode             0\n",
       "Customer ID           0\n",
       "Customer Name         0\n",
       "Segment               0\n",
       "City                  0\n",
       "State                 0\n",
       "Country               0\n",
       "Postal Code       41296\n",
       "Market                0\n",
       "Region                0\n",
       "Product ID            0\n",
       "Category              0\n",
       "Sub-Category          0\n",
       "Product Name          0\n",
       "Sales                 0\n",
       "Quantity              0\n",
       "Discount              0\n",
       "Profit                0\n",
       "Shipping Cost         0\n",
       "Order Priority        0\n",
       "dtype: int64"
      ]
     },
     "execution_count": 11,
     "metadata": {},
     "output_type": "execute_result"
    }
   ],
   "source": [
    "#check null values in the dataset\n",
    "\n",
    "df.isnull().sum()"
   ]
  },
  {
   "cell_type": "code",
   "execution_count": 12,
   "id": "1b7769e7-7628-47f6-baa5-cdfaff18131e",
   "metadata": {},
   "outputs": [
    {
     "data": {
      "text/plain": [
       "False"
      ]
     },
     "execution_count": 12,
     "metadata": {},
     "output_type": "execute_result"
    }
   ],
   "source": [
    "#check for duplicate data\n",
    "\n",
    "df.duplicated().any()\n"
   ]
  },
  {
   "cell_type": "code",
   "execution_count": 13,
   "id": "8f501c3c-7e11-47e6-a8a4-92b28b275829",
   "metadata": {},
   "outputs": [
    {
     "data": {
      "text/html": [
       "<div>\n",
       "<style scoped>\n",
       "    .dataframe tbody tr th:only-of-type {\n",
       "        vertical-align: middle;\n",
       "    }\n",
       "\n",
       "    .dataframe tbody tr th {\n",
       "        vertical-align: top;\n",
       "    }\n",
       "\n",
       "    .dataframe thead th {\n",
       "        text-align: right;\n",
       "    }\n",
       "</style>\n",
       "<table border=\"1\" class=\"dataframe\">\n",
       "  <thead>\n",
       "    <tr style=\"text-align: right;\">\n",
       "      <th></th>\n",
       "      <th>Row ID</th>\n",
       "      <th>Postal Code</th>\n",
       "      <th>Sales</th>\n",
       "      <th>Quantity</th>\n",
       "      <th>Discount</th>\n",
       "      <th>Profit</th>\n",
       "      <th>Shipping Cost</th>\n",
       "    </tr>\n",
       "  </thead>\n",
       "  <tbody>\n",
       "    <tr>\n",
       "      <th>count</th>\n",
       "      <td>51290.000</td>\n",
       "      <td>9994.000</td>\n",
       "      <td>51290.000</td>\n",
       "      <td>51290.000</td>\n",
       "      <td>51290.000</td>\n",
       "      <td>51290.000</td>\n",
       "      <td>51290.000</td>\n",
       "    </tr>\n",
       "    <tr>\n",
       "      <th>mean</th>\n",
       "      <td>25645.500</td>\n",
       "      <td>55190.379</td>\n",
       "      <td>246.491</td>\n",
       "      <td>3.477</td>\n",
       "      <td>0.143</td>\n",
       "      <td>28.611</td>\n",
       "      <td>26.376</td>\n",
       "    </tr>\n",
       "    <tr>\n",
       "      <th>std</th>\n",
       "      <td>14806.292</td>\n",
       "      <td>32063.693</td>\n",
       "      <td>487.565</td>\n",
       "      <td>2.279</td>\n",
       "      <td>0.212</td>\n",
       "      <td>174.341</td>\n",
       "      <td>57.297</td>\n",
       "    </tr>\n",
       "    <tr>\n",
       "      <th>min</th>\n",
       "      <td>1.000</td>\n",
       "      <td>1040.000</td>\n",
       "      <td>0.444</td>\n",
       "      <td>1.000</td>\n",
       "      <td>0.000</td>\n",
       "      <td>-6599.978</td>\n",
       "      <td>0.000</td>\n",
       "    </tr>\n",
       "    <tr>\n",
       "      <th>25%</th>\n",
       "      <td>12823.250</td>\n",
       "      <td>23223.000</td>\n",
       "      <td>30.759</td>\n",
       "      <td>2.000</td>\n",
       "      <td>0.000</td>\n",
       "      <td>0.000</td>\n",
       "      <td>2.610</td>\n",
       "    </tr>\n",
       "    <tr>\n",
       "      <th>50%</th>\n",
       "      <td>25645.500</td>\n",
       "      <td>56430.500</td>\n",
       "      <td>85.053</td>\n",
       "      <td>3.000</td>\n",
       "      <td>0.000</td>\n",
       "      <td>9.240</td>\n",
       "      <td>7.790</td>\n",
       "    </tr>\n",
       "    <tr>\n",
       "      <th>75%</th>\n",
       "      <td>38467.750</td>\n",
       "      <td>90008.000</td>\n",
       "      <td>251.053</td>\n",
       "      <td>5.000</td>\n",
       "      <td>0.200</td>\n",
       "      <td>36.810</td>\n",
       "      <td>24.450</td>\n",
       "    </tr>\n",
       "    <tr>\n",
       "      <th>max</th>\n",
       "      <td>51290.000</td>\n",
       "      <td>99301.000</td>\n",
       "      <td>22638.480</td>\n",
       "      <td>14.000</td>\n",
       "      <td>0.850</td>\n",
       "      <td>8399.976</td>\n",
       "      <td>933.570</td>\n",
       "    </tr>\n",
       "  </tbody>\n",
       "</table>\n",
       "</div>"
      ],
      "text/plain": [
       "         Row ID  Postal Code     Sales  Quantity  Discount    Profit  \\\n",
       "count 51290.000     9994.000 51290.000 51290.000 51290.000 51290.000   \n",
       "mean  25645.500    55190.379   246.491     3.477     0.143    28.611   \n",
       "std   14806.292    32063.693   487.565     2.279     0.212   174.341   \n",
       "min       1.000     1040.000     0.444     1.000     0.000 -6599.978   \n",
       "25%   12823.250    23223.000    30.759     2.000     0.000     0.000   \n",
       "50%   25645.500    56430.500    85.053     3.000     0.000     9.240   \n",
       "75%   38467.750    90008.000   251.053     5.000     0.200    36.810   \n",
       "max   51290.000    99301.000 22638.480    14.000     0.850  8399.976   \n",
       "\n",
       "       Shipping Cost  \n",
       "count      51290.000  \n",
       "mean          26.376  \n",
       "std           57.297  \n",
       "min            0.000  \n",
       "25%            2.610  \n",
       "50%            7.790  \n",
       "75%           24.450  \n",
       "max          933.570  "
      ]
     },
     "execution_count": 13,
     "metadata": {},
     "output_type": "execute_result"
    }
   ],
   "source": [
    "#get overall statistics about our data\n",
    "\n",
    "df.describe()"
   ]
  },
  {
   "cell_type": "code",
   "execution_count": 14,
   "id": "b2422ea5-90ab-4a2d-8a1a-5a8edfa3d03f",
   "metadata": {},
   "outputs": [],
   "source": [
    "#drop unnecessary columns\n",
    "\n",
    "df.columns\n",
    "df=df.drop(['Row ID','Order ID','Customer ID','Postal Code'],axis=1)"
   ]
  },
  {
   "cell_type": "code",
   "execution_count": 15,
   "id": "516c5393-978b-4377-8675-3b63c5cddd06",
   "metadata": {},
   "outputs": [
    {
     "data": {
      "text/plain": [
       "Index(['Order Date', 'Ship Date', 'Ship Mode', 'Customer Name', 'Segment',\n",
       "       'City', 'State', 'Country', 'Market', 'Region', 'Product ID',\n",
       "       'Category', 'Sub-Category', 'Product Name', 'Sales', 'Quantity',\n",
       "       'Discount', 'Profit', 'Shipping Cost', 'Order Priority'],\n",
       "      dtype='object')"
      ]
     },
     "execution_count": 15,
     "metadata": {},
     "output_type": "execute_result"
    }
   ],
   "source": [
    "#successfully dropped unnecessary columns\n",
    "df.columns"
   ]
  },
  {
   "cell_type": "code",
   "execution_count": 16,
   "id": "5c088911-ee6b-4bda-99a0-0893588b475c",
   "metadata": {},
   "outputs": [],
   "source": [
    "#Hypothesis 1: Technology products have the highest profit margin compared to other product categories\n",
    "#Hypothesis 2: The east region has the highest sales compared to other regions\n",
    "#Hypothesis 3: Sales are higher during certain months of the year \n",
    "#Hypothesis 4: Orders with same-day shipping have the lowest rate of return\n",
    "#Hypothesis 5: The company's profit is more on weekdays than on weekends"
   ]
  },
  {
   "cell_type": "code",
   "execution_count": 17,
   "id": "998b9a57-cbef-46a0-b0cf-c033e1dae804",
   "metadata": {},
   "outputs": [
    {
     "data": {
      "text/plain": [
       "Index(['Order Date', 'Ship Date', 'Ship Mode', 'Customer Name', 'Segment',\n",
       "       'City', 'State', 'Country', 'Market', 'Region', 'Product ID',\n",
       "       'Category', 'Sub-Category', 'Product Name', 'Sales', 'Quantity',\n",
       "       'Discount', 'Profit', 'Shipping Cost', 'Order Priority'],\n",
       "      dtype='object')"
      ]
     },
     "execution_count": 17,
     "metadata": {},
     "output_type": "execute_result"
    }
   ],
   "source": [
    "#Hypothesis 1: Technology products have the highest profit margin compared to other product categories\n",
    "\n",
    "df.columns"
   ]
  },
  {
   "cell_type": "code",
   "execution_count": 18,
   "id": "b428fdcc-1fc7-4459-8d97-ea1366edc16e",
   "metadata": {},
   "outputs": [
    {
     "data": {
      "text/plain": [
       "Text(0, 0.5, 'Total Profit')"
      ]
     },
     "execution_count": 18,
     "metadata": {},
     "output_type": "execute_result"
    },
    {
     "data": {
      "image/png": "[encoded data removed]",
      "text/plain": [
       "<Figure size 640x480 with 1 Axes>"
      ]
     },
     "metadata": {},
     "output_type": "display_data"
    }
   ],
   "source": [
    "cat_profit = df.groupby('Category')['Profit'].sum()\n",
    "cat_profit.plot(kind='bar')\n",
    "plt.title('Profit by category')\n",
    "plt.xlabel('Category')\n",
    "plt.ylabel('Total Profit')\n",
    "\n",
    "#Conclusion: We can conclude that technology has the  highest profit margin as compared to other categories"
   ]
  },
  {
   "cell_type": "code",
   "execution_count": 19,
   "id": "31698f20-ea3a-49d2-9f19-7c3c2444856c",
   "metadata": {},
   "outputs": [
    {
     "data": {
      "text/plain": [
       "Index(['Order Date', 'Ship Date', 'Ship Mode', 'Customer Name', 'Segment',\n",
       "       'City', 'State', 'Country', 'Market', 'Region', 'Product ID',\n",
       "       'Category', 'Sub-Category', 'Product Name', 'Sales', 'Quantity',\n",
       "       'Discount', 'Profit', 'Shipping Cost', 'Order Priority'],\n",
       "      dtype='object')"
      ]
     },
     "execution_count": 19,
     "metadata": {},
     "output_type": "execute_result"
    }
   ],
   "source": [
    "#Hypothesis 2: The east region has the highest sales compared to other regions\n",
    "\n",
    "\n",
    "df.columns"
   ]
  },
  {
   "cell_type": "code",
   "execution_count": 20,
   "id": "e75884fb-a9aa-4ced-b162-60f95a26b4f1",
   "metadata": {},
   "outputs": [
    {
     "data": {
      "text/plain": [
       "Text(0, 0.5, 'Total Sales')"
      ]
     },
     "execution_count": 20,
     "metadata": {},
     "output_type": "execute_result"
    },
    {
     "data": {
      "image/png": "[encoded data removed]",
      "text/plain": [
       "<Figure size 640x480 with 1 Axes>"
      ]
     },
     "metadata": {},
     "output_type": "display_data"
    }
   ],
   "source": [
    "\n",
    "region_sales=df.groupby('Region')['Sales'].sum()\n",
    "region_sales.plot(kind='bar')\n",
    "plt.title('Regional Sales')\n",
    "plt.xlabel('Regions')\n",
    "plt.ylabel('Total Sales')\n",
    "\n",
    "# Conclusion: The region with the highest sales as compared to other regions is the central region and not the east region"
   ]
  },
  {
   "cell_type": "code",
   "execution_count": 21,
   "id": "6e9c3a03-c8ea-4ce4-aa5f-8cfefdc1a740",
   "metadata": {},
   "outputs": [],
   "source": [
    "#Hypothesis 3: Sales are higher during certain months of the year \n",
    "#since there is no month column we have to extract the months from the order date columns to get the months \n",
    "\n",
    "df['Order Month']=pd.DatetimeIndex(df['Order Date']).month\n"
   ]
  },
  {
   "cell_type": "code",
   "execution_count": 22,
   "id": "2fa2fb9b-e3dd-4013-95c1-11598718ff50",
   "metadata": {},
   "outputs": [
    {
     "data": {
      "image/png": "[encoded data removed]",
      "text/plain": [
       "<Figure size 640x480 with 1 Axes>"
      ]
     },
     "metadata": {},
     "output_type": "display_data"
    }
   ],
   "source": [
    "month_sales =df.groupby('Order Month')['Sales'].sum()\n",
    "month_sales.plot(kind='line')\n",
    "plt.title('Sales by Month')\n",
    "plt.xlabel('Month')\n",
    "plt.ylabel('Total sales')\n",
    "plt.show()\n",
    "\n",
    "#conclusion: It is true that sales are higher in certain months of the year"
   ]
  },
  {
   "cell_type": "code",
   "execution_count": 23,
   "id": "511d76b1-fd06-4db0-82e6-1d4419cfeacd",
   "metadata": {},
   "outputs": [
    {
     "data": {
      "text/plain": [
       "Index(['Order Date', 'Ship Date', 'Ship Mode', 'Customer Name', 'Segment',\n",
       "       'City', 'State', 'Country', 'Market', 'Region', 'Product ID',\n",
       "       'Category', 'Sub-Category', 'Product Name', 'Sales', 'Quantity',\n",
       "       'Discount', 'Profit', 'Shipping Cost', 'Order Priority', 'Order Month'],\n",
       "      dtype='object')"
      ]
     },
     "execution_count": 23,
     "metadata": {},
     "output_type": "execute_result"
    }
   ],
   "source": [
    "#Hypothesis 4: Orders with same-day shipping have the lowest rate of return\n",
    "\n",
    "df.columns"
   ]
  },
  {
   "cell_type": "code",
   "execution_count": 31,
   "id": "240772b2-e5fa-486d-aa0f-38127e6e452d",
   "metadata": {},
   "outputs": [
    {
     "name": "stdout",
     "output_type": "stream",
     "text": [
      "Ship Mode\n",
      "First Class      25.077\n",
      "Same Day         23.917\n",
      "Second Class     24.076\n",
      "Standard Class   24.481\n",
      "dtype: float64\n"
     ]
    },
    {
     "data": {
      "image/png": "[encoded data removed]",
      "text/plain": [
       "<Figure size 640x480 with 1 Axes>"
      ]
     },
     "metadata": {},
     "output_type": "display_data"
    }
   ],
   "source": [
    "total_orders_by_shipping_mode = df.groupby('Ship Mode').size()\n",
    "\n",
    "returned_orders_by_shipping_mode =df[df['Profit']<0].groupby('Ship Mode').size()\n",
    "\n",
    "returned_per_by_shipping_mode =(returned_orders_by_shipping_mode/total_orders_by_shipping_mode)*100\n",
    "\n",
    "print(returned_per_by_shipping_mode)\n",
    "\n",
    "returned_per_by_shipping_mode.plot(kind='bar')\n",
    "\n",
    "plt.title('Return per by shipping mode')\n",
    "\n",
    "plt.xlabel('shipping mode')\n",
    "\n",
    "plt.ylabel('return per')\n",
    "\n",
    "plt.show()\n",
    "\n",
    "#conclusion: orders with same-day shipping have the lowest return rate so we fail to reject the null hypothesis"
   ]
  },
  {
   "cell_type": "code",
   "execution_count": 34,
   "id": "f2ee3001-2817-45f2-9f4c-76f7c42aa1ed",
   "metadata": {},
   "outputs": [
    {
     "data": {
      "image/png": "[encoded data removed]",
      "text/plain": [
       "<Figure size 640x480 with 1 Axes>"
      ]
     },
     "metadata": {},
     "output_type": "display_data"
    }
   ],
   "source": [
    "#Hypothesis 5: The company's profit is more on weekdays than on weekends\n",
    "\n",
    "df['Order Day']=pd.DatetimeIndex(df['Order Date']).day_name()\n",
    "\n",
    "day_profit= df.groupby('Order Day')['Profit'].sum()\n",
    "day_profit.plot(kind='bar')\n",
    "plt.title('Total profit by the day of the week')\n",
    "plt.xlabel('Day of the week')\n",
    "plt.ylabel('Total profit')\n",
    "plt.show()\n",
    "\n",
    "\n",
    "#conclusion: The weekdays had more profit than the weekends therefore the hypothesis is suppported"
   ]
  },
  {
   "cell_type": "code",
   "execution_count": null,
   "id": "13972aef-e0bc-49af-b845-5e0468358e17",
   "metadata": {},
   "outputs": [],
   "source": []
  },
  {
   "cell_type": "code",
   "execution_count": null,
   "id": "fe18fe56-089a-4a2b-9c48-9e271ec93e61",
   "metadata": {},
   "outputs": [],
   "source": []
  },
  {
   "cell_type": "code",
   "execution_count": null,
   "id": "a785f7b9-5f05-497d-bb1b-cf3061891048",
   "metadata": {},
   "outputs": [],
   "source": []
  }
 ],
 "metadata": {
  "kernelspec": {
   "display_name": "Python 3 (ipykernel)",
   "language": "python",
   "name": "python3"
  },
  "language_info": {
   "codemirror_mode": {
    "name": "ipython",
    "version": 3
   },
   "file_extension": ".py",
   "mimetype": "text/x-python",
   "name": "python",
   "nbconvert_exporter": "python",
   "pygments_lexer": "ipython3",
   "version": "3.12.4"
  }
 },
 "nbformat": 4,
 "nbformat_minor": 5
}
